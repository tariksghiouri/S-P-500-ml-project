{
 "cells": [
  {
   "cell_type": "code",
   "execution_count": 36,
   "id": "421d3a16",
   "metadata": {},
   "outputs": [
    {
     "data": {
      "text/html": [
       "<div>\n",
       "<style scoped>\n",
       "    .dataframe tbody tr th:only-of-type {\n",
       "        vertical-align: middle;\n",
       "    }\n",
       "\n",
       "    .dataframe tbody tr th {\n",
       "        vertical-align: top;\n",
       "    }\n",
       "\n",
       "    .dataframe thead th {\n",
       "        text-align: right;\n",
       "    }\n",
       "</style>\n",
       "<table border=\"1\" class=\"dataframe\">\n",
       "  <thead>\n",
       "    <tr style=\"text-align: right;\">\n",
       "      <th></th>\n",
       "      <th>Date</th>\n",
       "      <th>Symbol</th>\n",
       "      <th>Adj Close</th>\n",
       "      <th>Close</th>\n",
       "      <th>High</th>\n",
       "      <th>Low</th>\n",
       "      <th>Open</th>\n",
       "      <th>Volume</th>\n",
       "    </tr>\n",
       "  </thead>\n",
       "  <tbody>\n",
       "    <tr>\n",
       "      <th>0</th>\n",
       "      <td>2010-01-04</td>\n",
       "      <td>MMM</td>\n",
       "      <td>59.318886</td>\n",
       "      <td>83.019997</td>\n",
       "      <td>83.449997</td>\n",
       "      <td>82.669998</td>\n",
       "      <td>83.089996</td>\n",
       "      <td>3043700.0</td>\n",
       "    </tr>\n",
       "    <tr>\n",
       "      <th>1</th>\n",
       "      <td>2010-01-05</td>\n",
       "      <td>MMM</td>\n",
       "      <td>58.947342</td>\n",
       "      <td>82.500000</td>\n",
       "      <td>83.230003</td>\n",
       "      <td>81.699997</td>\n",
       "      <td>82.800003</td>\n",
       "      <td>2847000.0</td>\n",
       "    </tr>\n",
       "    <tr>\n",
       "      <th>2</th>\n",
       "      <td>2010-01-06</td>\n",
       "      <td>MMM</td>\n",
       "      <td>59.783295</td>\n",
       "      <td>83.669998</td>\n",
       "      <td>84.599998</td>\n",
       "      <td>83.510002</td>\n",
       "      <td>83.879997</td>\n",
       "      <td>5268500.0</td>\n",
       "    </tr>\n",
       "    <tr>\n",
       "      <th>3</th>\n",
       "      <td>2010-01-07</td>\n",
       "      <td>MMM</td>\n",
       "      <td>59.826176</td>\n",
       "      <td>83.730003</td>\n",
       "      <td>83.760002</td>\n",
       "      <td>82.120003</td>\n",
       "      <td>83.320000</td>\n",
       "      <td>4470100.0</td>\n",
       "    </tr>\n",
       "    <tr>\n",
       "      <th>4</th>\n",
       "      <td>2010-01-08</td>\n",
       "      <td>MMM</td>\n",
       "      <td>60.247749</td>\n",
       "      <td>84.320000</td>\n",
       "      <td>84.320000</td>\n",
       "      <td>83.300003</td>\n",
       "      <td>83.690002</td>\n",
       "      <td>3405800.0</td>\n",
       "    </tr>\n",
       "    <tr>\n",
       "      <th>...</th>\n",
       "      <td>...</td>\n",
       "      <td>...</td>\n",
       "      <td>...</td>\n",
       "      <td>...</td>\n",
       "      <td>...</td>\n",
       "      <td>...</td>\n",
       "      <td>...</td>\n",
       "      <td>...</td>\n",
       "    </tr>\n",
       "    <tr>\n",
       "      <th>1638021</th>\n",
       "      <td>2022-12-12</td>\n",
       "      <td>ZTS</td>\n",
       "      <td>152.860001</td>\n",
       "      <td>152.860001</td>\n",
       "      <td>154.470001</td>\n",
       "      <td>152.179993</td>\n",
       "      <td>154.070007</td>\n",
       "      <td>1851800.0</td>\n",
       "    </tr>\n",
       "    <tr>\n",
       "      <th>1638022</th>\n",
       "      <td>2022-12-13</td>\n",
       "      <td>ZTS</td>\n",
       "      <td>154.970001</td>\n",
       "      <td>154.970001</td>\n",
       "      <td>158.479996</td>\n",
       "      <td>152.080002</td>\n",
       "      <td>158.210007</td>\n",
       "      <td>3655900.0</td>\n",
       "    </tr>\n",
       "    <tr>\n",
       "      <th>1638023</th>\n",
       "      <td>2022-12-14</td>\n",
       "      <td>ZTS</td>\n",
       "      <td>151.779999</td>\n",
       "      <td>151.779999</td>\n",
       "      <td>156.100006</td>\n",
       "      <td>151.229996</td>\n",
       "      <td>153.770004</td>\n",
       "      <td>2182000.0</td>\n",
       "    </tr>\n",
       "    <tr>\n",
       "      <th>1638024</th>\n",
       "      <td>2022-12-15</td>\n",
       "      <td>ZTS</td>\n",
       "      <td>148.710007</td>\n",
       "      <td>148.710007</td>\n",
       "      <td>151.350006</td>\n",
       "      <td>148.539993</td>\n",
       "      <td>149.509995</td>\n",
       "      <td>1947400.0</td>\n",
       "    </tr>\n",
       "    <tr>\n",
       "      <th>1638025</th>\n",
       "      <td>2022-12-16</td>\n",
       "      <td>ZTS</td>\n",
       "      <td>144.460007</td>\n",
       "      <td>144.460007</td>\n",
       "      <td>147.570007</td>\n",
       "      <td>143.919998</td>\n",
       "      <td>147.309998</td>\n",
       "      <td>3952356.0</td>\n",
       "    </tr>\n",
       "  </tbody>\n",
       "</table>\n",
       "<p>1638026 rows × 8 columns</p>\n",
       "</div>"
      ],
      "text/plain": [
       "               Date Symbol   Adj Close       Close        High         Low  \\\n",
       "0        2010-01-04    MMM   59.318886   83.019997   83.449997   82.669998   \n",
       "1        2010-01-05    MMM   58.947342   82.500000   83.230003   81.699997   \n",
       "2        2010-01-06    MMM   59.783295   83.669998   84.599998   83.510002   \n",
       "3        2010-01-07    MMM   59.826176   83.730003   83.760002   82.120003   \n",
       "4        2010-01-08    MMM   60.247749   84.320000   84.320000   83.300003   \n",
       "...             ...    ...         ...         ...         ...         ...   \n",
       "1638021  2022-12-12    ZTS  152.860001  152.860001  154.470001  152.179993   \n",
       "1638022  2022-12-13    ZTS  154.970001  154.970001  158.479996  152.080002   \n",
       "1638023  2022-12-14    ZTS  151.779999  151.779999  156.100006  151.229996   \n",
       "1638024  2022-12-15    ZTS  148.710007  148.710007  151.350006  148.539993   \n",
       "1638025  2022-12-16    ZTS  144.460007  144.460007  147.570007  143.919998   \n",
       "\n",
       "               Open     Volume  \n",
       "0         83.089996  3043700.0  \n",
       "1         82.800003  2847000.0  \n",
       "2         83.879997  5268500.0  \n",
       "3         83.320000  4470100.0  \n",
       "4         83.690002  3405800.0  \n",
       "...             ...        ...  \n",
       "1638021  154.070007  1851800.0  \n",
       "1638022  158.210007  3655900.0  \n",
       "1638023  153.770004  2182000.0  \n",
       "1638024  149.509995  1947400.0  \n",
       "1638025  147.309998  3952356.0  \n",
       "\n",
       "[1638026 rows x 8 columns]"
      ]
     },
     "execution_count": 36,
     "metadata": {},
     "output_type": "execute_result"
    }
   ],
   "source": [
    "import statistics \n",
    "import matplotlib.pyplot as plt\n",
    "import pandas as pd\n",
    "from sklearn.tree import DecisionTreeClassifier\n",
    "from sklearn.model_selection import train_test_split\n",
    "import joblib\n",
    "from sklearn.metrics import accuracy_score\n",
    "import numpy as np\n",
    "\n",
    "\n",
    "# part one: finding and loading the data \n",
    "sp_data=pd.read_csv(\"dataset/sp500_stocks.csv\")\n",
    "sp_data\n"
   ]
  },
  {
   "cell_type": "code",
   "execution_count": 7,
   "id": "e7e6bf4e",
   "metadata": {},
   "outputs": [
    {
     "data": {
      "text/html": [
       "<div>\n",
       "<style scoped>\n",
       "    .dataframe tbody tr th:only-of-type {\n",
       "        vertical-align: middle;\n",
       "    }\n",
       "\n",
       "    .dataframe tbody tr th {\n",
       "        vertical-align: top;\n",
       "    }\n",
       "\n",
       "    .dataframe thead th {\n",
       "        text-align: right;\n",
       "    }\n",
       "</style>\n",
       "<table border=\"1\" class=\"dataframe\">\n",
       "  <thead>\n",
       "    <tr style=\"text-align: right;\">\n",
       "      <th></th>\n",
       "      <th>Date</th>\n",
       "      <th>Adj Close</th>\n",
       "      <th>Open</th>\n",
       "    </tr>\n",
       "  </thead>\n",
       "  <tbody>\n",
       "    <tr>\n",
       "      <th>0</th>\n",
       "      <td>2010-01-04</td>\n",
       "      <td>59.318886</td>\n",
       "      <td>83.089996</td>\n",
       "    </tr>\n",
       "    <tr>\n",
       "      <th>1</th>\n",
       "      <td>2010-01-05</td>\n",
       "      <td>58.947342</td>\n",
       "      <td>82.800003</td>\n",
       "    </tr>\n",
       "    <tr>\n",
       "      <th>2</th>\n",
       "      <td>2010-01-06</td>\n",
       "      <td>59.783295</td>\n",
       "      <td>83.879997</td>\n",
       "    </tr>\n",
       "    <tr>\n",
       "      <th>3</th>\n",
       "      <td>2010-01-07</td>\n",
       "      <td>59.826176</td>\n",
       "      <td>83.320000</td>\n",
       "    </tr>\n",
       "    <tr>\n",
       "      <th>4</th>\n",
       "      <td>2010-01-08</td>\n",
       "      <td>60.247749</td>\n",
       "      <td>83.690002</td>\n",
       "    </tr>\n",
       "    <tr>\n",
       "      <th>...</th>\n",
       "      <td>...</td>\n",
       "      <td>...</td>\n",
       "      <td>...</td>\n",
       "    </tr>\n",
       "    <tr>\n",
       "      <th>1638021</th>\n",
       "      <td>2022-12-12</td>\n",
       "      <td>152.860001</td>\n",
       "      <td>154.070007</td>\n",
       "    </tr>\n",
       "    <tr>\n",
       "      <th>1638022</th>\n",
       "      <td>2022-12-13</td>\n",
       "      <td>154.970001</td>\n",
       "      <td>158.210007</td>\n",
       "    </tr>\n",
       "    <tr>\n",
       "      <th>1638023</th>\n",
       "      <td>2022-12-14</td>\n",
       "      <td>151.779999</td>\n",
       "      <td>153.770004</td>\n",
       "    </tr>\n",
       "    <tr>\n",
       "      <th>1638024</th>\n",
       "      <td>2022-12-15</td>\n",
       "      <td>148.710007</td>\n",
       "      <td>149.509995</td>\n",
       "    </tr>\n",
       "    <tr>\n",
       "      <th>1638025</th>\n",
       "      <td>2022-12-16</td>\n",
       "      <td>144.460007</td>\n",
       "      <td>147.309998</td>\n",
       "    </tr>\n",
       "  </tbody>\n",
       "</table>\n",
       "<p>1638026 rows × 3 columns</p>\n",
       "</div>"
      ],
      "text/plain": [
       "               Date   Adj Close        Open\n",
       "0        2010-01-04   59.318886   83.089996\n",
       "1        2010-01-05   58.947342   82.800003\n",
       "2        2010-01-06   59.783295   83.879997\n",
       "3        2010-01-07   59.826176   83.320000\n",
       "4        2010-01-08   60.247749   83.690002\n",
       "...             ...         ...         ...\n",
       "1638021  2022-12-12  152.860001  154.070007\n",
       "1638022  2022-12-13  154.970001  158.210007\n",
       "1638023  2022-12-14  151.779999  153.770004\n",
       "1638024  2022-12-15  148.710007  149.509995\n",
       "1638025  2022-12-16  144.460007  147.309998\n",
       "\n",
       "[1638026 rows x 3 columns]"
      ]
     },
     "execution_count": 7,
     "metadata": {},
     "output_type": "execute_result"
    }
   ],
   "source": [
    "x=sp_data.drop(columns=['Symbol','Volume','Close','High', 'Low'])\n",
    "x"
   ]
  },
  {
   "cell_type": "code",
   "execution_count": 8,
   "id": "ba9259d2",
   "metadata": {},
   "outputs": [
    {
     "data": {
      "text/plain": [
       "0           83.019997\n",
       "1           82.500000\n",
       "2           83.669998\n",
       "3           83.730003\n",
       "4           84.320000\n",
       "              ...    \n",
       "1638021    152.860001\n",
       "1638022    154.970001\n",
       "1638023    151.779999\n",
       "1638024    148.710007\n",
       "1638025    144.460007\n",
       "Name: Close, Length: 1638026, dtype: float64"
      ]
     },
     "execution_count": 8,
     "metadata": {},
     "output_type": "execute_result"
    }
   ],
   "source": [
    "y=sp_data['Close']\n",
    "y"
   ]
  },
  {
   "cell_type": "code",
   "execution_count": 9,
   "id": "2b38de3f",
   "metadata": {},
   "outputs": [
    {
     "data": {
      "text/plain": [
       "91.62201820436397"
      ]
     },
     "execution_count": 9,
     "metadata": {},
     "output_type": "execute_result"
    }
   ],
   "source": [
    "z = sp_data['Close'].fillna(0)\n",
    "\n",
    "avg_open = statistics.mean(z) \n",
    "avg_open\n"
   ]
  },
  {
   "cell_type": "code",
   "execution_count": 10,
   "id": "a14a0abb",
   "metadata": {},
   "outputs": [
    {
     "data": {
      "text/plain": [
       "0"
      ]
     },
     "execution_count": 10,
     "metadata": {},
     "output_type": "execute_result"
    }
   ],
   "source": [
    "hmean = statistics.harmonic_mean(z)\n",
    "hmean"
   ]
  },
  {
   "cell_type": "code",
   "execution_count": 44,
   "id": "62eba46a",
   "metadata": {},
   "outputs": [
    {
     "data": {
      "text/plain": [
       "<matplotlib.lines.Line2D at 0x1e8b5b2f100>"
      ]
     },
     "execution_count": 44,
     "metadata": {},
     "output_type": "execute_result"
    },
    {
     "data": {
      "image/png": "[encoded data removed]",
      "text/plain": [
       "<Figure size 640x480 with 1 Axes>"
      ]
     },
     "metadata": {},
     "output_type": "display_data"
    }
   ],
   "source": [
    "newDf=sp_data.iloc[:1000]\n",
    "newDf\n",
    "#create scatter plot\n",
    "plt.scatter(newDf.Date, newDf.Open)\n",
    "\n",
    "#add horizontal line at mean value of y\n",
    "plt.axhline(y=np.nanmean(newDf.Open))"
   ]
  },
  {
   "cell_type": "code",
   "execution_count": null,
   "id": "a96691a8",
   "metadata": {},
   "outputs": [],
   "source": []
  }
 ],
 "metadata": {
  "kernelspec": {
   "display_name": "Python 3 (ipykernel)",
   "language": "python",
   "name": "python3"
  },
  "language_info": {
   "codemirror_mode": {
    "name": "ipython",
    "version": 3
   },
   "file_extension": ".py",
   "mimetype": "text/x-python",
   "name": "python",
   "nbconvert_exporter": "python",
   "pygments_lexer": "ipython3",
   "version": "3.9.13"
  },
  "vscode": {
   "interpreter": {
    "hash": "9484f2faf34f77aaabee3e8b5467ab55abcacbedba64d77ec721c36ab7640a91"
   }
  }
 },
 "nbformat": 4,
 "nbformat_minor": 5
}
