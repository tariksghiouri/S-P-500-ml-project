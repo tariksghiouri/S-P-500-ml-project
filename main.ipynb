{
 "cells": [
  {
   "cell_type": "code",
   "execution_count": null,
   "id": "421d3a16",
   "metadata": {},
   "outputs": [],
   "source": [
    "import pandas as pd\n",
    "from sklearn.tree import DecisionTreeClassifier\n",
    "from sklearn.model_selection import train_test_split\n",
    "import joblib\n",
    "from sklearn.metrics import accuracy_score\n",
    "\n",
    "# part one: finding and loading the data \n",
    "sp_data=pd.read_csv(\"sp500_stocks.csv\")\n",
    "sp_data\n"
   ]
  },
  {
   "cell_type": "code",
   "execution_count": null,
   "id": "e7e6bf4e",
   "metadata": {},
   "outputs": [],
   "source": [
    "x=sp_data.drop(columns=['Close'])\n",
    "x"
   ]
  },
  {
   "cell_type": "code",
   "execution_count": null,
   "id": "ba9259d2",
   "metadata": {},
   "outputs": [],
   "source": [
    "y=sp_data['Close']\n",
    "y"
   ]
  },
  {
   "cell_type": "code",
   "execution_count": null,
   "id": "2b38de3f",
   "metadata": {},
   "outputs": [],
   "source": []
  }
 ],
 "metadata": {
  "kernelspec": {
   "display_name": "Python 3.11.0 64-bit",
   "language": "python",
   "name": "python3"
  },
  "language_info": {
   "codemirror_mode": {
    "name": "ipython",
    "version": 3
   },
   "file_extension": ".py",
   "mimetype": "text/x-python",
   "name": "python",
   "nbconvert_exporter": "python",
   "pygments_lexer": "ipython3",
   "version": "3.11.0"
  },
  "vscode": {
   "interpreter": {
    "hash": "9484f2faf34f77aaabee3e8b5467ab55abcacbedba64d77ec721c36ab7640a91"
   }
  }
 },
 "nbformat": 4,
 "nbformat_minor": 5
}
